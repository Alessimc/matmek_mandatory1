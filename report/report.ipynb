{
 "cells": [
  {
   "cell_type": "markdown",
   "metadata": {},
   "source": [
    "# Report: MAT-MEK4270 Mandatory 1"
   ]
  },
  {
   "cell_type": "markdown",
   "metadata": {},
   "source": [
    "### 1.2.1 Finding an expression for the dispersion coefficient $\\omega$"
   ]
  },
  {
   "cell_type": "markdown",
   "metadata": {},
   "source": [
    "Using the exact solution form 1.4 and inserting it into 1.2.\n",
    "\n",
    "$$\n",
    "u(t,x,y) = \\sin(k_x x) \\sin(k_y y) \\cos(\\omega t)\n",
    "$$\n",
    "and,\n",
    "$$\n",
    "\\frac{\\partial^2 u}{\\partial t^2} = c^2 \\nabla^2 u.\n",
    "$$\n",
    "This gives,\n",
    "$$\n",
    "- \\omega^2 \\sin(k_x x) \\sin(k_y y) \\cos(\\omega t) = \\\\ c^2 \\left( -k_x^2 \\sin(k_x x) \\sin(k_y y) \\cos(\\omega t) - k_y^2 \\sin(k_x x) \\sin(k_y y) \\cos(\\omega t) \\right)\n",
    "$$\n",
    "$$\n",
    "- \\omega^2 = c^2 \\left( -k_x^2 - k_y^2 \\right)\n",
    "$$\n",
    "\n",
    "This finally gives,\n",
    "$$\n",
    "\\omega = \\sqrt{c^2(k_x^2 + k_y^2)}\n",
    "$$"
   ]
  },
  {
   "cell_type": "markdown",
   "metadata": {},
   "source": [
    "### 1.2.3 Exact Solution"
   ]
  },
  {
   "cell_type": "markdown",
   "metadata": {},
   "source": [
    "We are given,\n",
    "$$\n",
    "u(t,x,y) = e^{\\imath (k_x x + k_y y - \\omega t)}.\n",
    "$$\n",
    "Showing that $u$ satisfies the wave equation\n",
    "$$\n",
    "\\frac{\\partial^2 u}{\\partial t^2} = c^2 \\nabla^2 u = c^2 \\left( \\frac{\\partial^2 u}{\\partial x^2} + \\frac{\\partial^2 u}{\\partial y^2} \\right).\n",
    "$$"
   ]
  },
  {
   "cell_type": "markdown",
   "metadata": {},
   "source": [
    "We have\n",
    "$$\n",
    "\\frac{\\partial^2 u}{\\partial t^2} = - \\omega^2 e^{\\imath (k_x x + k_y y - \\omega t)},\n",
    "$$\n",
    "and\n",
    "$$\n",
    "\\frac{\\partial^2 u}{\\partial x^2} = - k_x^2 e^{\\imath (k_x x + k_y y - \\omega t)}.\n",
    "$$\n",
    "Equivalently for $y$ we have\n",
    "$$\n",
    "\\frac{\\partial^2 u}{\\partial y^2} = - k_y^2 e^{\\imath (k_x x + k_y y - \\omega t)}.\n",
    "$$"
   ]
  },
  {
   "cell_type": "markdown",
   "metadata": {},
   "source": [
    "This gives \n",
    "$$\n",
    "- \\omega^2 e^{\\imath (k_x x + k_y y - \\omega t)} = c^2 \\left( - k_x^2 e^{\\imath (k_x x + k_y y - \\omega t)} - k_y^2 e^{\\imath (k_x x + k_y y - \\omega t)}\\right)\n",
    "$$\n",
    "$$\n",
    "- \\omega^2  = c^2 \\left( - k_x^2  - k_y^2 \\right)\n",
    "$$\n",
    "$$\n",
    "\\omega^2  = c^2 \\left( k_x^2 + k_y^2 \\right).\n",
    "$$"
   ]
  },
  {
   "cell_type": "markdown",
   "metadata": {},
   "source": [
    "This is the same dispersion relation found in 1.2.1, showing that $u(t,x,y) = e^{\\imath (k_x x + k_y y - \\omega t)}$ satisfies the wave equation."
   ]
  },
  {
   "cell_type": "markdown",
   "metadata": {},
   "source": [
    "### 1.2.4 Dispersion Coefficient"
   ]
  },
  {
   "cell_type": "markdown",
   "metadata": {},
   "source": [
    "Assuming $m_x = m_y$ such that $k_x = k_y = k$, a discrete version of $u(t,x,y) = e^{\\imath (k_x x + k_y y - \\omega t)}$ is given by,\n",
    "$$\n",
    "u^n_{ij} = e^{\\imath (kh(i+j) - \\tilde{\\omega} n\\Delta t)}.\n",
    "$$"
   ]
  },
  {
   "cell_type": "markdown",
   "metadata": {},
   "source": [
    "The discretized wave equation using central differences is,\n",
    "$$\n",
    "\\frac{u^{n+1}_{i,j} - 2u^n_{i,j} + u^{n-1}_{i, j}}{\\Delta t^2} =\n",
    " c^2 \\left(\\frac{u^n_{i+1,j} - 2u^n_{i,j} + u^n_{i-1, j}}{h^2} + \\frac{u^n_{i,j+1} - 2u^n_{i,j} + u^n_{i, j-1}}{h^2}\\right)\n",
    "$$"
   ]
  },
  {
   "cell_type": "markdown",
   "metadata": {},
   "source": [
    "Inserting for $u^n_{ij}$ in each of the three terms we get,\n",
    "$$\n",
    "\\frac{e^{\\imath (kh(i+j) - \\tilde{\\omega} (n+1)\\Delta t)} - 2e^{\\imath (kh(i+j) - \\tilde{\\omega} n\\Delta t)} + e^{\\imath (kh(i+j) - \\tilde{\\omega} (n-1)\\Delta t)}}{\\Delta t^2} = $$\n",
    "$$\n",
    " c^2 \\left(\\frac{e^{\\imath (kh(i+1+j) - \\tilde{\\omega} n\\Delta t)} - 2e^{\\imath (kh(i+j) - \\tilde{\\omega} n\\Delta t)} + e^{\\imath (kh(i-1+j) - \\tilde{\\omega} n\\Delta t)}}{h^2} + \\frac{e^{\\imath (kh(i+j+1) - \\tilde{\\omega} n\\Delta t)} - 2e^{\\imath (kh(i+j) - \\tilde{\\omega} n\\Delta t)} + e^{\\imath (kh(i+j-1) - \\tilde{\\omega} n\\Delta t)}}{h^2}\\right)\n",
    "$$\n",
    "\n"
   ]
  },
  {
   "cell_type": "markdown",
   "metadata": {},
   "source": [
    "To simplify this ugly mess we can define\n",
    "$$\n",
    "z = e^{\\imath (kh(i+j) - \\tilde{\\omega} n\\Delta t)},\n",
    "$$\n",
    "\n",
    "such that the LHS can be rewritten as \n",
    "$$ LHS =\n",
    "\\frac{z e^{-\\imath \\tilde{\\omega} \\Delta t} - 2z + z e^{\\imath \\tilde{\\omega} \\Delta t}}{\\Delta t^2} =\n",
    "\\frac{ z(e^{-\\imath \\tilde{\\omega} \\Delta t} - 2 +  e^{\\imath \\tilde{\\omega} \\Delta t})}{\\Delta t^2}.\n",
    "$$\n",
    "Using that $e^{-ix} + e^{ix} = 2 \\cos(x)$ this becomes,\n",
    "$$ LHS =\n",
    "\\frac{ z(2\\cos(\\tilde{\\omega} \\Delta t) - 2 )}{\\Delta t^2}.\n",
    "$$"
   ]
  },
  {
   "cell_type": "markdown",
   "metadata": {},
   "source": [
    "Similarly, on the RHS, substituting for $z$ gives\n",
    "$$\n",
    "RHS = c^2 \\left( \\frac{z (e^{\\imath kh} - 2 + e^{-\\imath kh})}{h^2} + \\frac{z (e^{\\imath kh} - 2 + e^{-\\imath kh})}{h^2} \\right)\n",
    "= 2 z c^2 \\left( \\frac{(e^{\\imath kh} - 2 + e^{-\\imath kh})}{h^2}  \\right) = 2 z c^2 \\left( \\frac{2\\cos(kh) - 2}{h^2}  \\right)\n",
    "$$"
   ]
  },
  {
   "cell_type": "markdown",
   "metadata": {},
   "source": [
    "Now using the LHS and RHS together we have\n",
    "$$\n",
    "\\frac{ z(2\\cos(\\tilde{\\omega} \\Delta t) - 2 )}{\\Delta t^2} = 2 z c^2 \\left( \\frac{2\\cos(kh) - 2}{h^2}  \\right)\n",
    "$$\n",
    "\n",
    "$$\n",
    "\\frac{\\cos(\\tilde{\\omega} \\Delta t) - 1 }{\\Delta t^2} = 2 c^2 \\left( \\frac{\\cos(kh) - 1}{h^2}  \\right)\n",
    "$$\n",
    "\n",
    "$$\n",
    "\\cos(\\tilde{\\omega} \\Delta t) - 1 = 2 \\frac{c^2 \\Delta t^2}{h^2} (\\cos(kh) - 1)\n",
    "$$"
   ]
  },
  {
   "cell_type": "markdown",
   "metadata": {},
   "source": [
    "Substituting for $C = \\frac{c \\Delta t}{h}$ gives\n",
    "\n",
    "$$\n",
    "\\cos(\\tilde{\\omega} \\Delta t) - 1 = 2 C^2 (\\cos(kh) - 1)\n",
    "$$"
   ]
  },
  {
   "cell_type": "markdown",
   "metadata": {},
   "source": [
    "Now considering the situation where the CFL number is \n",
    "$$\n",
    "C = \\frac{c \\Delta t}{h} = \\frac{1}{\\sqrt{2}},\n",
    "$$\n",
    "and using $k_x = k_y = k$, we now have\n",
    "$$\n",
    "\\omega^2  = 2 c^2 k^2.\n",
    "$$\n",
    "$$\n",
    "\\omega  = \\sqrt{2} c k.\n",
    "$$"
   ]
  },
  {
   "cell_type": "markdown",
   "metadata": {},
   "source": [
    "Using the above, we have \n",
    "\n",
    "$$\n",
    "\\cos(\\tilde{\\omega} \\Delta t) - 1 = \\cos(kh) - 1\n",
    "$$\n",
    "\n",
    "$$\n",
    "\\cos(\\tilde{\\omega} \\Delta t)  = \\cos(kh) \n",
    "$$"
   ]
  },
  {
   "cell_type": "markdown",
   "metadata": {},
   "source": [
    "\n",
    "Such that,\n",
    "$$\n",
    "\\tilde{\\omega} \\Delta t  = kh\n",
    "$$"
   ]
  },
  {
   "cell_type": "markdown",
   "metadata": {},
   "source": [
    "Now using $h = c \\Delta t \\sqrt{2}$ and $k = \\frac{\\omega}{\\sqrt{2} c}$ we get,\n",
    "\n",
    "$$\n",
    "\\tilde{\\omega} \\Delta t  = \\frac{\\omega}{\\sqrt{2} c} c \\Delta t \\sqrt{2}\n",
    "$$\n",
    "$$\n",
    "\\tilde{\\omega} \\Delta t  = \\omega \\Delta t\n",
    "$$\n",
    "$$\n",
    "\\tilde{\\omega} = \\omega\n",
    "$$"
   ]
  },
  {
   "cell_type": "markdown",
   "metadata": {},
   "source": [
    "So for $C = 1 / \\sqrt{2}$ we have $\\tilde{\\omega} = \\omega$."
   ]
  },
  {
   "cell_type": "markdown",
   "metadata": {},
   "source": [
    "### 1.2.6 Wave Movies"
   ]
  },
  {
   "cell_type": "markdown",
   "metadata": {},
   "source": [
    "#### Neumann Boundaries\n",
    "![Animation](wavemovie_neumann.gif)"
   ]
  },
  {
   "cell_type": "markdown",
   "metadata": {},
   "source": [
    "#### Dirichlet Boundaries\n",
    "\n",
    "![Animation](wavemovie_dirichlet.gif)\n"
   ]
  }
 ],
 "metadata": {
  "language_info": {
   "name": "python"
  }
 },
 "nbformat": 4,
 "nbformat_minor": 2
}
